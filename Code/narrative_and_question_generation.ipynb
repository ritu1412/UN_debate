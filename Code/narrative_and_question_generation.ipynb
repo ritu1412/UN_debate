{
 "cells": [
  {
   "cell_type": "code",
   "execution_count": 1,
   "metadata": {},
   "outputs": [],
   "source": [
    "from openai import OpenAI\n",
    "import json\n",
    "import os\n",
    "from collections import defaultdict\n",
    "import re"
   ]
  },
  {
   "cell_type": "code",
   "execution_count": 2,
   "metadata": {},
   "outputs": [],
   "source": [
    "client = OpenAI(\n",
    "    api_key=os.getenv(\"OPENAI_API_KEY\"),\n",
    ")"
   ]
  },
  {
   "cell_type": "markdown",
   "metadata": {},
   "source": [
    "# Narrative of countries of interest"
   ]
  },
  {
   "cell_type": "code",
   "execution_count": 21,
   "metadata": {},
   "outputs": [],
   "source": [
    "countries_of_interest = ['IND', 'USA', 'CHN', 'FRA', 'IRQ', 'SAU', 'IRN', 'GBR']"
   ]
  },
  {
   "cell_type": "code",
   "execution_count": null,
   "metadata": {},
   "outputs": [],
   "source": [
    "def generate_narrative(model, speech_text, country_name):\n",
    "    narrative_prompt = f\"\"\"\n",
    "    \\\"\\\"\\\" {speech_text}\n",
    "    You are the best at reading UN speeches and giving the narrative of the country on a certain topic.\\\n",
    "    Above is the speech from {country_name} from the year 2002 to 2007. Give me the narrative of the speaker country \\\n",
    "    on the Iraq War. Make sure you cover the sentiment, the key points, and the reasoning of the speaker country. \\ \n",
    "    Later I will be using this text to prepare MCQs to find narrative differences between different countries. If there is no content on Iraq War just\n",
    "    give the text \"No Narrative\"\\\"\\\"\\\"\n",
    "    \"\"\"\n",
    "    try:\n",
    "        response = client.chat.completions.create(\n",
    "            model=model,\n",
    "            messages=[\n",
    "                {\"role\": \"user\", \"content\": narrative_prompt}\n",
    "            ],\n",
    "            temperature=0\n",
    "        )\n",
    "    except Exception as e:\n",
    "        print(f\"Error: {e}\")\n",
    "    return response"
   ]
  },
  {
   "cell_type": "code",
   "execution_count": null,
   "metadata": {},
   "outputs": [],
   "source": [
    "def process_speeches(json_file):\n",
    "    with open(json_file, 'r') as file:\n",
    "        speeches = json.load(file)\n",
    "    \n",
    "    # Group speeches by country\n",
    "    grouped_speeches = defaultdict(str)\n",
    "    \n",
    "    for speech in speeches:\n",
    "        country = speech.get('country')\n",
    "        year = speech.get('year')\n",
    "        speech_text = speech.get('text')\n",
    "        \n",
    "        if country in countries_of_interest and 2002 <= year <= 2007:\n",
    "            grouped_speeches[country] += f\" {speech_text}\"\n",
    "    \n",
    "    narratives = []\n",
    "    \n",
    "    for country, combined_speech_text in grouped_speeches.items():\n",
    "        country_name = country  # In this case, the country field is already the name or code\n",
    "        narrative = generate_narrative(\"gpt-4o\",combined_speech_text, country_name)\n",
    "        pure_narrative = narrative.choices[0].message.content\n",
    "        narrative_dict = {\n",
    "            \"country\": country_name,\n",
    "            \"Narrative\": pure_narrative\n",
    "        }\n",
    "        narratives.append(narrative_dict)\n",
    "    \n",
    "    return narratives"
   ]
  },
  {
   "cell_type": "code",
   "execution_count": 39,
   "metadata": {},
   "outputs": [],
   "source": [
    "def transform_narrative(narrative):\n",
    "    # Extract sentiment\n",
    "    sentiment_match = re.search(r'#### Sentiment:\\n(.+?)(\\n####|\\Z)', narrative, re.DOTALL)\n",
    "    sentiment = sentiment_match.group(1).strip() if sentiment_match else \"\"\n",
    "\n",
    "    # Extract key points\n",
    "    key_points_match = re.findall(r'\\*\\*([^\\*]+)\\*\\*\\s*:\\s*(.+?)(?=\\n\\d\\.|\\Z)', narrative, re.DOTALL)\n",
    "    key_points = []\n",
    "    for point in key_points_match:\n",
    "        key_points.append(f\"{point[0].strip()}: {point[1].strip()}\")\n",
    "\n",
    "    # Extract reasoning\n",
    "    reasoning_match = re.search(r'#### Reasoning:\\n(.+?)(\\n####|\\Z)', narrative, re.DOTALL)\n",
    "    reasoning = reasoning_match.group(1).strip() if reasoning_match else \"\"\n",
    "\n",
    "    return {\n",
    "        \"sentiment\": sentiment,\n",
    "        \"key points\": key_points,\n",
    "        \"reasoning\": reasoning\n",
    "    }"
   ]
  },
  {
   "cell_type": "code",
   "execution_count": 35,
   "metadata": {},
   "outputs": [],
   "source": [
    "json_file = '../data/processed/UN_data.json'\n",
    "narratives = process_speeches(json_file)"
   ]
  },
  {
   "cell_type": "code",
   "execution_count": 42,
   "metadata": {},
   "outputs": [],
   "source": [
    "transformed_data = []\n",
    "for entry in narratives:\n",
    "    country_name = entry['country']\n",
    "    narrative = entry['Narrative']\n",
    "    transformed_narrative = transform_narrative(narrative)\n",
    "    transformed_data.append({\n",
    "        \"country\": country_name,\n",
    "        \"Narrative\": transformed_narrative\n",
    "    })\n",
    "\n",
    "# Output the transformed data as JSON\n",
    "output_json = json.dumps(transformed_data, indent=2)\n",
    "output_file = '../data/processed/narrative_try.json'\n",
    "with open(output_file, 'w') as file:\n",
    "    file.write(output_json)"
   ]
  },
  {
   "cell_type": "markdown",
   "metadata": {},
   "source": [
    "# Forming the questions with Narratives"
   ]
  },
  {
   "cell_type": "code",
   "execution_count": 44,
   "metadata": {},
   "outputs": [],
   "source": [
    "def generate_questions(Narrative_json_text, model=\"gpt-4o-mini\"):\n",
    "\n",
    "    prompt = f\"\"\" {Narrative_json_text}\n",
    "    Above are the narrative of the various countries about Iraq war, I want the design set of MCQ questions to differentiate\\\n",
    "    the country speeches by their narrative. Give the questions in the following format. The goal is to answer these \\ \n",
    "    questions based on the speech and then cluster them based on the answers. The answers of the similar narrative countries \\\n",
    "    should have similar answers and the ones with different narrative should have different answer. Make sure there are only \\\n",
    "    2 options + 1 option being not relevant. Dont design questions such that the options are countries, make sure to design \\ \n",
    "    such that the options are the narratives just like the example question.\n",
    "    Example:  \n",
    "    1. \"Does the speech emphasize the importance of the United Nations' role in legitimizing military interventions?\",\n",
    "    \"A\": \"Yes, the speech strongly supports the need for UN authorization before military action.\",\n",
    "    \"B\": \"No, the speech justifies military action regardless of UN authorization.\",\n",
    "    \"C\": \"The speech does not address this issue.\"\n",
    "    \"\"\"\n",
    "    messages = [{\"role\": \"user\", \"content\": prompt}]\n",
    "    try:\n",
    "        response = client.chat.completions.create(\n",
    "            model=model, messages=messages, temperature=0\n",
    "        )\n",
    "\n",
    "        content = response.choices[0].message.content\n",
    "        return content\n",
    "    except Exception as e:  # if the model fails to return a response\n",
    "        print(f\"Error: {e}\")\n",
    "        return \"Sorry, error from GPT.\""
   ]
  },
  {
   "cell_type": "code",
   "execution_count": 45,
   "metadata": {},
   "outputs": [],
   "source": [
    "questions = generate_questions(narratives, model=\"gpt-4o-mini\")"
   ]
  },
  {
   "cell_type": "code",
   "execution_count": 47,
   "metadata": {},
   "outputs": [],
   "source": [
    "pattern = re.compile(\n",
    "    r'(\\d+)\\.\\s*\"([^\"]+)\"\\s*,\\s*'\n",
    "    r'-\\s*\"A\":\\s*\"([^\"]+)\"\\s*,\\s*'\n",
    "    r'-\\s*\"B\":\\s*\"([^\"]+)\"\\s*,\\s*'\n",
    "    r'-\\s*\"C\":\\s*\"([^\"]+)\"'\n",
    ")\n",
    "\n",
    "# Find all matches\n",
    "matches = pattern.findall(questions)\n",
    "\n",
    "# Transform matches into the desired JSON format\n",
    "output_dict = {}\n",
    "for match in matches:\n",
    "    q_num = f\"Q{match[0]}\"\n",
    "    question = match[1]\n",
    "    choices = {\n",
    "        \"A\": match[2],\n",
    "        \"B\": match[3],\n",
    "        \"C\": match[4]\n",
    "    }\n",
    "    output_dict[q_num] = {\n",
    "        \"question\": question,\n",
    "        \"choices\": choices\n",
    "    }\n",
    "\n",
    "# Convert to JSON format and print the result\n",
    "output_json = json.dumps(output_dict, indent=4)\n",
    "output_file = '../data/processed/narrative_questions.json'\n",
    "with open(output_file, 'w') as file:\n",
    "    file.write(output_json)"
   ]
  }
 ],
 "metadata": {
  "kernelspec": {
   "display_name": "env",
   "language": "python",
   "name": "python3"
  },
  "language_info": {
   "codemirror_mode": {
    "name": "ipython",
    "version": 3
   },
   "file_extension": ".py",
   "mimetype": "text/x-python",
   "name": "python",
   "nbconvert_exporter": "python",
   "pygments_lexer": "ipython3",
   "version": "3.9.6"
  }
 },
 "nbformat": 4,
 "nbformat_minor": 2
}
