{
 "cells": [
  {
   "cell_type": "code",
   "execution_count": 8,
   "metadata": {},
   "outputs": [],
   "source": [
    "from openai import OpenAI\n",
    "import json, os, sys\n",
    "import os\n",
    "import pandas as pd\n",
    "import numpy as np\n",
    "import matplotlib.pyplot as plt\n",
    "from sklearn.manifold import TSNE"
   ]
  },
  {
   "cell_type": "markdown",
   "metadata": {},
   "source": [
    "### Load answers"
   ]
  },
  {
   "cell_type": "code",
   "execution_count": 9,
   "metadata": {},
   "outputs": [
    {
     "name": "stdout",
     "output_type": "stream",
     "text": [
      "Number of questions: 6\n"
     ]
    }
   ],
   "source": [
    "source_filename = \"../data/processed/UN_data.json\"\n",
    "des_filename = \"../data/processed/UN_data_with_narrative_answers.json\"\n",
    "\n",
    "# Load articles\n",
    "with open(source_filename, 'r', encoding='utf-8') as f:\n",
    "    articles = json.load(f)\n",
    "\n",
    "# Load questions\n",
    "with open('../data/processed/narrative_questions.json', 'r', encoding='utf-8') as f:\n",
    "    questions = json.load(f)\n",
    "\n",
    "#print number of questions\n",
    "print(\"Number of questions:\", len(questions))\n",
    "\n",
    "# Set API key\n",
    "client = OpenAI(\n",
    "    api_key=os.getenv(\"OPENAI_API_KEY\"),\n",
    ")"
   ]
  },
  {
   "cell_type": "code",
   "execution_count": 3,
   "metadata": {},
   "outputs": [],
   "source": [
    "def get_answers(article, questions, model):\n",
    "    article_content = article.get('text')\n",
    "    print(f\"Proceeding article\")\n",
    "    pre = \"You are an AI trained to understand speeches and generate concise answers to multiple-choice questions based on the content. \\\n",
    "        Please read the following speech carefully. After reading, answer ALL the questions listed below. \\\n",
    "            Your answers must be in capital letters and formatted as a single string, where each question number is followed by its corresponding answer letter. \\\n",
    "                Separate each question-answer pair with a semicolon. \\\n",
    "                    Example format: 1A;2B;3C;4D;... \\n\\n\"\n",
    "\n",
    "    prompt = pre + f\"Speech Content:\\n{article_content}\\n\\n Questions: {questions}\\n\"\n",
    "    try:\n",
    "        response = client.chat.completions.create(\n",
    "            model=model,\n",
    "            messages=[\n",
    "                {\"role\": \"user\", \"content\": prompt}\n",
    "            ],\n",
    "            temperature=0\n",
    "        )\n",
    "    except Exception as e:\n",
    "        print(f\"Error: {e}\")\n",
    "    return response"
   ]
  },
  {
   "cell_type": "code",
   "execution_count": null,
   "metadata": {},
   "outputs": [],
   "source": [
    "def convert_string_to_dict(answer_string):\n",
    "    if answer_string == \"\":\n",
    "        return {}\n",
    "    if answer_string[-1] == ';':\n",
    "        answer_string = answer_string[:-1]\n",
    "    return {item[:-1]: item[-1] for item in answer_string.split(';')}\n",
    "\n",
    "results = []\n",
    "iteration = 0\n",
    "max_iteration = len(articles)\n",
    "\n",
    "for article in articles:\n",
    "\n",
    "    answers = get_answers(article, questions, model=\"gpt-4o\")\n",
    "\n",
    "    pure_answers = answers.choices[0].message.content\n",
    "    print(pure_answers)\n",
    "\n",
    "    # convert string to dictionary 1A;2B;3C;44D to {'1': 'A', '2': 'B', '3': 'C', '44': 'D'}\n",
    "    processed_answers = convert_string_to_dict(pure_answers)\n",
    "    article['Narrative_answers']= processed_answers\n",
    "\n",
    "    results.append(article)\n",
    "    iteration += 1\n",
    "\n",
    "# Save results to a JSON file\n",
    "with open(des_filename, 'w', encoding='utf-8') as f:\n",
    "    json.dump(results, f, ensure_ascii=False, indent=4)"
   ]
  },
  {
   "cell_type": "code",
   "execution_count": 4,
   "metadata": {},
   "outputs": [
    {
     "data": {
      "text/plain": [
       "1138"
      ]
     },
     "execution_count": 4,
     "metadata": {},
     "output_type": "execute_result"
    }
   ],
   "source": [
    "updated_json = \"../data/processed/UN_data_with_narrative_answers.json\"\n",
    "with open(updated_json, 'r', encoding='utf-8') as f:\n",
    "    articles = json.load(f)\n",
    "\n",
    "len(articles)"
   ]
  },
  {
   "cell_type": "code",
   "execution_count": 5,
   "metadata": {},
   "outputs": [],
   "source": [
    "#give each article a unique number from 0 to 1137 and update the json\n",
    "for i, article in enumerate(articles):\n",
    "    article['id'] = i\n",
    "\n",
    "with open(updated_json, 'w', encoding='utf-8') as f:\n",
    "    json.dump(articles, f, ensure_ascii=False, indent=4)\n",
    "\n",
    "# Load articles\n",
    "with open(updated_json, 'r', encoding='utf-8') as f:\n",
    "    articles = json.load(f)"
   ]
  },
  {
   "cell_type": "code",
   "execution_count": 6,
   "metadata": {},
   "outputs": [],
   "source": [
    "# Load articles\n",
    "with open(updated_json, 'r', encoding='utf-8') as f:\n",
    "    articles = json.load(f)"
   ]
  },
  {
   "cell_type": "code",
   "execution_count": 7,
   "metadata": {},
   "outputs": [],
   "source": [
    "def check_narrative_format(narrative_answers):\n",
    "    expected_keys = {\"1\", \"2\", \"3\", \"4\", \"5\", \"6\"}\n",
    "    # Check if the keys match the expected format\n",
    "    if isinstance(narrative_answers, dict):\n",
    "        return set(narrative_answers.keys()) == expected_keys\n",
    "    return False\n",
    "\n",
    "# Iterate through articles and print session number and country if format doesn't match\n",
    "for article in articles:\n",
    "    narrative_answers = article.get(\"Narrative_answers\", {})\n",
    "    session_number = article.get(\"id\", \"N/A\")\n",
    "    country = article.get(\"country\", \"N/A\")\n",
    "    if not check_narrative_format(narrative_answers):\n",
    "        print(f\"Session Number: {session_number}, Country: {country}\")"
   ]
  }
 ],
 "metadata": {
  "kernelspec": {
   "display_name": "env",
   "language": "python",
   "name": "python3"
  },
  "language_info": {
   "codemirror_mode": {
    "name": "ipython",
    "version": 3
   },
   "file_extension": ".py",
   "mimetype": "text/x-python",
   "name": "python",
   "nbconvert_exporter": "python",
   "pygments_lexer": "ipython3",
   "version": "3.9.6"
  }
 },
 "nbformat": 4,
 "nbformat_minor": 2
}
